{
 "cells": [
  {
   "cell_type": "code",
   "execution_count": 4,
   "metadata": {},
   "outputs": [
    {
     "name": "stdout",
     "output_type": "stream",
     "text": [
      "Value: 10\n",
      "Correct\n"
     ]
    }
   ],
   "source": [
    "i=10\n",
    "if(i==10):\n",
    "    print('Value:',i)\n",
    "    print('Correct')"
   ]
  },
  {
   "cell_type": "code",
   "execution_count": 5,
   "metadata": {},
   "outputs": [
    {
     "name": "stdout",
     "output_type": "stream",
     "text": [
      "Enter the Password: HOPE@123\n",
      "Your Password is Correct\n"
     ]
    }
   ],
   "source": [
    "name='HOPE@123'\n",
    "if(name=='HOPE@123'):\n",
    "    print('Enter the Password:',name)\n",
    "    print('Your Password is Correct')\n",
    "else:\n",
    "    print('your Password is Incorrect')"
   ]
  },
  {
   "cell_type": "code",
   "execution_count": 6,
   "metadata": {},
   "outputs": [
    {
     "name": "stdout",
     "output_type": "stream",
     "text": [
      "age:20\n",
      "Adult\n"
     ]
    }
   ],
   "source": [
    "age=int(input('age:'))\n",
    "if(age<18):\n",
    "    print('Children')\n",
    "elif(age<35):\n",
    "    print('Adult')\n",
    "elif(age<59):\n",
    "    print('Citizen')\n",
    "else:\n",
    "    print('Senior Citizen')\n",
    "    "
   ]
  },
  {
   "cell_type": "code",
   "execution_count": 7,
   "metadata": {},
   "outputs": [
    {
     "name": "stdout",
     "output_type": "stream",
     "text": [
      "Enter any Number:1\n",
      "No. is Positive\n"
     ]
    }
   ],
   "source": [
    "num=float(input('Enter any Number:'))\n",
    "if(num>0):\n",
    "    print('No. is Positive')\n",
    "elif(num==0):\n",
    "    print('No. is Zero')\n",
    "else:\n",
    "    print('No. is Negative')\n",
    "    "
   ]
  },
  {
   "cell_type": "code",
   "execution_count": 8,
   "metadata": {},
   "outputs": [
    {
     "name": "stdout",
     "output_type": "stream",
     "text": [
      "Enter a number to check:22\n",
      "No is not divisibly by 5\n"
     ]
    }
   ],
   "source": [
    "num=int(input('Enter a number to check:'))\n",
    "if(num%5==0):\n",
    "    print('No divisible by 5')\n",
    "else:\n",
    "    print('No is not divisibly by 5')"
   ]
  },
  {
   "cell_type": "code",
   "execution_count": null,
   "metadata": {},
   "outputs": [],
   "source": []
  }
 ],
 "metadata": {
  "kernelspec": {
   "display_name": "Python 3",
   "language": "python",
   "name": "python3"
  },
  "language_info": {
   "codemirror_mode": {
    "name": "ipython",
    "version": 3
   },
   "file_extension": ".py",
   "mimetype": "text/x-python",
   "name": "python",
   "nbconvert_exporter": "python",
   "pygments_lexer": "ipython3",
   "version": "3.7.4"
  }
 },
 "nbformat": 4,
 "nbformat_minor": 2
}
