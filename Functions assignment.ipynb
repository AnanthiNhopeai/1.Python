{
 "cells": [
  {
   "cell_type": "code",
   "execution_count": 1,
   "metadata": {},
   "outputs": [],
   "source": [
    "def subfields():\n",
    "    \n",
    "    print('Sub-fields in AI are:')\n",
    "    print('Machine Learning')\n",
    "    print('Neural Networks')\n",
    "    print('Vision')\n",
    "    print('Robotics')\n",
    "    print('Speech Processing')\n",
    "    print('Natural Language Processing')\n",
    "    "
   ]
  },
  {
   "cell_type": "code",
   "execution_count": 2,
   "metadata": {},
   "outputs": [
    {
     "name": "stdout",
     "output_type": "stream",
     "text": [
      "Sub-fields in AI are:\n",
      "Machine Learning\n",
      "Neural Networks\n",
      "Vision\n",
      "Robotics\n",
      "Speech Processing\n",
      "Natural Language Processing\n"
     ]
    }
   ],
   "source": [
    "subfields()"
   ]
  },
  {
   "cell_type": "code",
   "execution_count": 3,
   "metadata": {},
   "outputs": [],
   "source": [
    "def OddEven():\n",
    "            num=int(input('Enter the number:'))\n",
    "            if((num%2==0)):\n",
    "                print(num,'is a Even Number')\n",
    "                message='Even number'\n",
    "            else:\n",
    "                print(num,'is a Odd Number')\n",
    "                message='Odd Number'\n",
    "            return message"
   ]
  },
  {
   "cell_type": "code",
   "execution_count": 4,
   "metadata": {},
   "outputs": [
    {
     "name": "stdout",
     "output_type": "stream",
     "text": [
      "Enter the number:4\n",
      "4 is a Even Number\n"
     ]
    }
   ],
   "source": [
    "message=OddEven()"
   ]
  },
  {
   "cell_type": "code",
   "execution_count": 5,
   "metadata": {},
   "outputs": [],
   "source": [
    "def Eligible():\n",
    "        sex=input('Your Gender(male,female,m,f):')\n",
    "        age=int(input('Your Age:'))\n",
    "        if(sex.lower() in('female','f')):\n",
    "            if(age>=18):\n",
    "                    print('Eligible')\n",
    "            else:\n",
    "                    print('Not Eligible')\n",
    "        elif(sex.lower() in('male','m')):\n",
    "            if(age>=21):\n",
    "                    print('Eligible')\n",
    "            else:\n",
    "                    print('Not Eligible')\n",
    "        else:\n",
    "                print('invalid input data')"
   ]
  },
  {
   "cell_type": "code",
   "execution_count": 6,
   "metadata": {},
   "outputs": [
    {
     "name": "stdout",
     "output_type": "stream",
     "text": [
      "Your Gender(male,female,m,f):m\n",
      "Your Age:18\n",
      "Not Eligible\n"
     ]
    }
   ],
   "source": [
    "Eligible()"
   ]
  },
  {
   "cell_type": "code",
   "execution_count": 7,
   "metadata": {},
   "outputs": [],
   "source": [
    "def Percentage():\n",
    "        s1=int(input('Subject1='))\n",
    "        s2=int(input('Subject2='))\n",
    "        s3=int(input('Subject3='))\n",
    "        s4=int(input('Subject4='))\n",
    "        s5=int(input('Subject5='))\n",
    "        total=s1+s2+s3+s4+s5\n",
    "        percentage=(total/500)*100\n",
    "        print('Total:',total)\n",
    "        print('Percentage:',percentage)"
   ]
  },
  {
   "cell_type": "code",
   "execution_count": 10,
   "metadata": {},
   "outputs": [
    {
     "name": "stdout",
     "output_type": "stream",
     "text": [
      "Subject1=23\n",
      "Subject2=45\n",
      "Subject3=34\n",
      "Subject4=23\n",
      "Subject5=23\n",
      "Total: 148\n",
      "Percentage: 29.599999999999998\n"
     ]
    }
   ],
   "source": [
    "Percentage()"
   ]
  },
  {
   "cell_type": "code",
   "execution_count": 9,
   "metadata": {},
   "outputs": [],
   "source": [
    "def triangle():\n",
    "        h=int(input('Height:'))\n",
    "        b=int(input('Breadth:'))\n",
    "        area=(h*b)/2\n",
    "        print('Area Formula:(Height*Breadth)/2')\n",
    "        print('Area of Triangle:',area)\n",
    "        h1=int(input('Height1:'))\n",
    "        h2=int(input('Height2:'))\n",
    "        b1=int(input('Breadth1:'))\n",
    "        perimeter=h1+h2+b1\n",
    "        print('Perimeter formula:Height1+Height2+Breadth1')\n",
    "        print('Perimeter of Triangle:',perimeter)"
   ]
  },
  {
   "cell_type": "code",
   "execution_count": 11,
   "metadata": {},
   "outputs": [
    {
     "name": "stdout",
     "output_type": "stream",
     "text": [
      "Height:3\n",
      "Breadth:4\n",
      "Area Formula:(Height*Breadth)/2\n",
      "Area of Triangle: 6.0\n",
      "Height1:3\n",
      "Height2:4\n",
      "Breadth1:45\n",
      "Perimeter formula:Height1+Height2+Breadth1\n",
      "Perimeter of Triangle: 52\n"
     ]
    }
   ],
   "source": [
    "triangle()"
   ]
  },
  {
   "cell_type": "code",
   "execution_count": null,
   "metadata": {},
   "outputs": [],
   "source": []
  }
 ],
 "metadata": {
  "kernelspec": {
   "display_name": "Python 3",
   "language": "python",
   "name": "python3"
  },
  "language_info": {
   "codemirror_mode": {
    "name": "ipython",
    "version": 3
   },
   "file_extension": ".py",
   "mimetype": "text/x-python",
   "name": "python",
   "nbconvert_exporter": "python",
   "pygments_lexer": "ipython3",
   "version": "3.7.4"
  }
 },
 "nbformat": 4,
 "nbformat_minor": 2
}
